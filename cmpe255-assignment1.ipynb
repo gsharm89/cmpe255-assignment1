{
 "cells": [
  {
   "cell_type": "code",
   "execution_count": 3,
   "metadata": {},
   "outputs": [],
   "source": [
    "import pandas as pd\n",
    "import json\n",
    "import string\n",
    "import re\n",
    "from nltk.stem.porter import PorterStemmer\n",
    "from nltk.corpus import stopwords\n",
    "from nltk.tokenize import word_tokenize "
   ]
  },
  {
   "cell_type": "code",
   "execution_count": 7,
   "metadata": {},
   "outputs": [
    {
     "data": {
      "text/html": [
       "<div>\n",
       "<style scoped>\n",
       "    .dataframe tbody tr th:only-of-type {\n",
       "        vertical-align: middle;\n",
       "    }\n",
       "\n",
       "    .dataframe tbody tr th {\n",
       "        vertical-align: top;\n",
       "    }\n",
       "\n",
       "    .dataframe thead th {\n",
       "        text-align: right;\n",
       "    }\n",
       "</style>\n",
       "<table border=\"1\" class=\"dataframe\">\n",
       "  <thead>\n",
       "    <tr style=\"text-align: right;\">\n",
       "      <th></th>\n",
       "      <th>business_id</th>\n",
       "      <th>stars</th>\n",
       "      <th>text</th>\n",
       "    </tr>\n",
       "  </thead>\n",
       "  <tbody>\n",
       "    <tr>\n",
       "      <th>0</th>\n",
       "      <td>ujmEBvifdJM6h6RLv4wQIg</td>\n",
       "      <td>1.0</td>\n",
       "      <td>Total bill for this horrible service? Over $8G...</td>\n",
       "    </tr>\n",
       "    <tr>\n",
       "      <th>1</th>\n",
       "      <td>NZnhc2sEQy3RmzKTZnqtwQ</td>\n",
       "      <td>5.0</td>\n",
       "      <td>I *adore* Travis at the Hard Rock's new Kelly ...</td>\n",
       "    </tr>\n",
       "    <tr>\n",
       "      <th>2</th>\n",
       "      <td>WTqjgwHlXbSFevF32_DJVw</td>\n",
       "      <td>5.0</td>\n",
       "      <td>I have to say that this office really has it t...</td>\n",
       "    </tr>\n",
       "    <tr>\n",
       "      <th>3</th>\n",
       "      <td>ikCg8xy5JIg_NGPx-MSIDA</td>\n",
       "      <td>5.0</td>\n",
       "      <td>Went in for a lunch. Steak sandwich was delici...</td>\n",
       "    </tr>\n",
       "    <tr>\n",
       "      <th>4</th>\n",
       "      <td>b1b1eb3uo-w561D0ZfCEiQ</td>\n",
       "      <td>1.0</td>\n",
       "      <td>Today was my second out of three sessions I ha...</td>\n",
       "    </tr>\n",
       "  </tbody>\n",
       "</table>\n",
       "</div>"
      ],
      "text/plain": [
       "              business_id  stars  \\\n",
       "0  ujmEBvifdJM6h6RLv4wQIg    1.0   \n",
       "1  NZnhc2sEQy3RmzKTZnqtwQ    5.0   \n",
       "2  WTqjgwHlXbSFevF32_DJVw    5.0   \n",
       "3  ikCg8xy5JIg_NGPx-MSIDA    5.0   \n",
       "4  b1b1eb3uo-w561D0ZfCEiQ    1.0   \n",
       "\n",
       "                                                text  \n",
       "0  Total bill for this horrible service? Over $8G...  \n",
       "1  I *adore* Travis at the Hard Rock's new Kelly ...  \n",
       "2  I have to say that this office really has it t...  \n",
       "3  Went in for a lunch. Steak sandwich was delici...  \n",
       "4  Today was my second out of three sessions I ha...  "
      ]
     },
     "execution_count": 7,
     "metadata": {},
     "output_type": "execute_result"
    }
   ],
   "source": [
    "with open('review.json', 'r') as f:\n",
    "    data = [json.loads(row) for row in f]\n",
    "    \n",
    "reviews = pd.DataFrame(data)\n",
    "reviews = reviews.drop([\"cool\", \"date\", \"funny\", \"review_id\", \"useful\", \"user_id\"],1)\n",
    "reviews.head(5)"
   ]
  },
  {
   "cell_type": "code",
   "execution_count": 8,
   "metadata": {},
   "outputs": [
    {
     "data": {
      "text/plain": [
       "(6685900, 3)"
      ]
     },
     "execution_count": 8,
     "metadata": {},
     "output_type": "execute_result"
    }
   ],
   "source": [
    "reviews.shape"
   ]
  },
  {
   "cell_type": "code",
   "execution_count": 9,
   "metadata": {},
   "outputs": [
    {
     "data": {
      "text/plain": [
       "(100000, 3)"
      ]
     },
     "execution_count": 9,
     "metadata": {},
     "output_type": "execute_result"
    }
   ],
   "source": [
    "reviews = reviews[:100000]\n",
    "reviews.shape"
   ]
  },
  {
   "cell_type": "code",
   "execution_count": 10,
   "metadata": {},
   "outputs": [],
   "source": [
    "def clean_review(review):\n",
    "    letters_only = re.sub('[^a-zA-Z]', ' ', review)\n",
    "    words = letters_only.lower().split()\n",
    "    stopwords_eng = set(stopwords.words(\"english\"))\n",
    "    useful_words = [x for x in words if not x in stopwords_eng]\n",
    "    \n",
    "    # Combine words into a paragraph again\n",
    "    useful_words_string = ' '.join(useful_words)\n",
    "    return(useful_words_string)\n",
    "\n",
    "stemmer = PorterStemmer()\n",
    "\n",
    "def stem_words(words_list, stemmer):\n",
    "    return [stemmer.stem(word) for word in words_list]\n",
    "\n",
    "def tokenize(text):\n",
    "    tokens = word_tokenize(text)\n",
    "    stems = stem_words(tokens, stemmer)\n",
    "    return stems"
   ]
  },
  {
   "cell_type": "code",
   "execution_count": 11,
   "metadata": {},
   "outputs": [],
   "source": [
    "# CLEANING THE REVIEWS - REMOVAL OF STOPWORDS AND PUNCTUATION\n",
    "def text_process(text):\n",
    "    nopunc = [char for char in text if char not in string.punctuation]\n",
    "    nopunc = ''.join(nopunc)\n",
    "    return [word for word in nopunc.split() if word.lower() not in stopwords.words('english')]"
   ]
  },
  {
   "cell_type": "code",
   "execution_count": 12,
   "metadata": {},
   "outputs": [],
   "source": [
    "reviews['new_review'] = reviews['text'].apply(clean_review)\n",
    "reviews['new_star'] = reviews['stars'].apply(lambda x: 1 if x > 3.3 else -1 if x < 1.67 else 0)"
   ]
  },
  {
   "cell_type": "code",
   "execution_count": 13,
   "metadata": {},
   "outputs": [
    {
     "data": {
      "text/html": [
       "<div>\n",
       "<style scoped>\n",
       "    .dataframe tbody tr th:only-of-type {\n",
       "        vertical-align: middle;\n",
       "    }\n",
       "\n",
       "    .dataframe tbody tr th {\n",
       "        vertical-align: top;\n",
       "    }\n",
       "\n",
       "    .dataframe thead th {\n",
       "        text-align: right;\n",
       "    }\n",
       "</style>\n",
       "<table border=\"1\" class=\"dataframe\">\n",
       "  <thead>\n",
       "    <tr style=\"text-align: right;\">\n",
       "      <th></th>\n",
       "      <th>business_id</th>\n",
       "      <th>stars</th>\n",
       "      <th>text</th>\n",
       "      <th>new_review</th>\n",
       "      <th>new_star</th>\n",
       "    </tr>\n",
       "  </thead>\n",
       "  <tbody>\n",
       "    <tr>\n",
       "      <th>0</th>\n",
       "      <td>ujmEBvifdJM6h6RLv4wQIg</td>\n",
       "      <td>1.0</td>\n",
       "      <td>Total bill for this horrible service? Over $8G...</td>\n",
       "      <td>total bill horrible service gs crooks actually...</td>\n",
       "      <td>-1</td>\n",
       "    </tr>\n",
       "    <tr>\n",
       "      <th>1</th>\n",
       "      <td>NZnhc2sEQy3RmzKTZnqtwQ</td>\n",
       "      <td>5.0</td>\n",
       "      <td>I *adore* Travis at the Hard Rock's new Kelly ...</td>\n",
       "      <td>adore travis hard rock new kelly cardenas salo...</td>\n",
       "      <td>1</td>\n",
       "    </tr>\n",
       "    <tr>\n",
       "      <th>2</th>\n",
       "      <td>WTqjgwHlXbSFevF32_DJVw</td>\n",
       "      <td>5.0</td>\n",
       "      <td>I have to say that this office really has it t...</td>\n",
       "      <td>say office really together organized friendly ...</td>\n",
       "      <td>1</td>\n",
       "    </tr>\n",
       "    <tr>\n",
       "      <th>3</th>\n",
       "      <td>ikCg8xy5JIg_NGPx-MSIDA</td>\n",
       "      <td>5.0</td>\n",
       "      <td>Went in for a lunch. Steak sandwich was delici...</td>\n",
       "      <td>went lunch steak sandwich delicious caesar sal...</td>\n",
       "      <td>1</td>\n",
       "    </tr>\n",
       "    <tr>\n",
       "      <th>4</th>\n",
       "      <td>b1b1eb3uo-w561D0ZfCEiQ</td>\n",
       "      <td>1.0</td>\n",
       "      <td>Today was my second out of three sessions I ha...</td>\n",
       "      <td>today second three sessions paid although firs...</td>\n",
       "      <td>-1</td>\n",
       "    </tr>\n",
       "    <tr>\n",
       "      <th>5</th>\n",
       "      <td>eU_713ec6fTGNO4BegRaww</td>\n",
       "      <td>4.0</td>\n",
       "      <td>I'll be the first to admit that I was not exci...</td>\n",
       "      <td>first admit excited going la tavolta food snob...</td>\n",
       "      <td>1</td>\n",
       "    </tr>\n",
       "    <tr>\n",
       "      <th>6</th>\n",
       "      <td>3fw2X5bZYeW9xCz_zGhOHg</td>\n",
       "      <td>3.0</td>\n",
       "      <td>Tracy dessert had a big name in Hong Kong and ...</td>\n",
       "      <td>tracy dessert big name hong kong one first mar...</td>\n",
       "      <td>0</td>\n",
       "    </tr>\n",
       "    <tr>\n",
       "      <th>7</th>\n",
       "      <td>zvO-PJCpNk4fgAVUnExYAA</td>\n",
       "      <td>1.0</td>\n",
       "      <td>This place has gone down hill.  Clearly they h...</td>\n",
       "      <td>place gone hill clearly cut back staff food qu...</td>\n",
       "      <td>-1</td>\n",
       "    </tr>\n",
       "    <tr>\n",
       "      <th>8</th>\n",
       "      <td>b2jN2mm9Wf3RcrZCgfo1cg</td>\n",
       "      <td>2.0</td>\n",
       "      <td>I was really looking forward to visiting after...</td>\n",
       "      <td>really looking forward visiting beers man war ...</td>\n",
       "      <td>0</td>\n",
       "    </tr>\n",
       "    <tr>\n",
       "      <th>9</th>\n",
       "      <td>oxwGyA17NL6c5t1Etg5WgQ</td>\n",
       "      <td>3.0</td>\n",
       "      <td>It's a giant Best Buy with 66 registers.  I do...</td>\n",
       "      <td>giant best buy registers get big deal place</td>\n",
       "      <td>0</td>\n",
       "    </tr>\n",
       "    <tr>\n",
       "      <th>10</th>\n",
       "      <td>8mIrX_LrOnAqWsB5JrOojQ</td>\n",
       "      <td>4.0</td>\n",
       "      <td>Like walking back in time, every Saturday morn...</td>\n",
       "      <td>like walking back time every saturday morning ...</td>\n",
       "      <td>1</td>\n",
       "    </tr>\n",
       "    <tr>\n",
       "      <th>11</th>\n",
       "      <td>mRUVMJkUGxrByzMQ2MuOpA</td>\n",
       "      <td>1.0</td>\n",
       "      <td>Walked in around 4 on a Friday afternoon, we s...</td>\n",
       "      <td>walked around friday afternoon sat table bar w...</td>\n",
       "      <td>-1</td>\n",
       "    </tr>\n",
       "    <tr>\n",
       "      <th>12</th>\n",
       "      <td>FxLfqxdYPA6Z85PFKaqLrg</td>\n",
       "      <td>4.0</td>\n",
       "      <td>Wow. So surprised at the one and two star revi...</td>\n",
       "      <td>wow surprised one two star reviews started ten...</td>\n",
       "      <td>1</td>\n",
       "    </tr>\n",
       "    <tr>\n",
       "      <th>13</th>\n",
       "      <td>LUN6swQYa4xJKaM_UEUOEw</td>\n",
       "      <td>4.0</td>\n",
       "      <td>Michael from Red Carpet VIP is amazing ! I rea...</td>\n",
       "      <td>michael red carpet vip amazing reached needed ...</td>\n",
       "      <td>1</td>\n",
       "    </tr>\n",
       "    <tr>\n",
       "      <th>14</th>\n",
       "      <td>AakkkTuGZA2KBodKi2_u8A</td>\n",
       "      <td>1.0</td>\n",
       "      <td>I cannot believe how things have changed in 3 ...</td>\n",
       "      <td>cannot believe things changed years picked duc...</td>\n",
       "      <td>-1</td>\n",
       "    </tr>\n",
       "    <tr>\n",
       "      <th>15</th>\n",
       "      <td>YvrylyuWgbP90RgMqZQVnQ</td>\n",
       "      <td>5.0</td>\n",
       "      <td>You can't really find anything wrong with this...</td>\n",
       "      <td>really find anything wrong place pastas pizzas...</td>\n",
       "      <td>1</td>\n",
       "    </tr>\n",
       "    <tr>\n",
       "      <th>16</th>\n",
       "      <td>NyLYY8q1-H3hfsTwuwLPCg</td>\n",
       "      <td>4.0</td>\n",
       "      <td>Great lunch today. Staff was very helpful in a...</td>\n",
       "      <td>great lunch today staff helpful assisting sele...</td>\n",
       "      <td>1</td>\n",
       "    </tr>\n",
       "    <tr>\n",
       "      <th>17</th>\n",
       "      <td>cHdJXLlKNWixBXpDwEGb_A</td>\n",
       "      <td>3.0</td>\n",
       "      <td>I love chinese food and I love mexican food. W...</td>\n",
       "      <td>love chinese food love mexican food go wrong c...</td>\n",
       "      <td>0</td>\n",
       "    </tr>\n",
       "    <tr>\n",
       "      <th>18</th>\n",
       "      <td>6lj2BJ4tJeu7db5asGHQ4w</td>\n",
       "      <td>5.0</td>\n",
       "      <td>We've been a huge Slim's fan since they opened...</td>\n",
       "      <td>huge slim fan since opened one texas two years...</td>\n",
       "      <td>1</td>\n",
       "    </tr>\n",
       "    <tr>\n",
       "      <th>19</th>\n",
       "      <td>y-Iw6dZflNix4BdwIyTNGA</td>\n",
       "      <td>3.0</td>\n",
       "      <td>Good selection of classes of beers and mains. ...</td>\n",
       "      <td>good selection classes beers mains twice first...</td>\n",
       "      <td>0</td>\n",
       "    </tr>\n",
       "  </tbody>\n",
       "</table>\n",
       "</div>"
      ],
      "text/plain": [
       "               business_id  stars  \\\n",
       "0   ujmEBvifdJM6h6RLv4wQIg    1.0   \n",
       "1   NZnhc2sEQy3RmzKTZnqtwQ    5.0   \n",
       "2   WTqjgwHlXbSFevF32_DJVw    5.0   \n",
       "3   ikCg8xy5JIg_NGPx-MSIDA    5.0   \n",
       "4   b1b1eb3uo-w561D0ZfCEiQ    1.0   \n",
       "5   eU_713ec6fTGNO4BegRaww    4.0   \n",
       "6   3fw2X5bZYeW9xCz_zGhOHg    3.0   \n",
       "7   zvO-PJCpNk4fgAVUnExYAA    1.0   \n",
       "8   b2jN2mm9Wf3RcrZCgfo1cg    2.0   \n",
       "9   oxwGyA17NL6c5t1Etg5WgQ    3.0   \n",
       "10  8mIrX_LrOnAqWsB5JrOojQ    4.0   \n",
       "11  mRUVMJkUGxrByzMQ2MuOpA    1.0   \n",
       "12  FxLfqxdYPA6Z85PFKaqLrg    4.0   \n",
       "13  LUN6swQYa4xJKaM_UEUOEw    4.0   \n",
       "14  AakkkTuGZA2KBodKi2_u8A    1.0   \n",
       "15  YvrylyuWgbP90RgMqZQVnQ    5.0   \n",
       "16  NyLYY8q1-H3hfsTwuwLPCg    4.0   \n",
       "17  cHdJXLlKNWixBXpDwEGb_A    3.0   \n",
       "18  6lj2BJ4tJeu7db5asGHQ4w    5.0   \n",
       "19  y-Iw6dZflNix4BdwIyTNGA    3.0   \n",
       "\n",
       "                                                 text  \\\n",
       "0   Total bill for this horrible service? Over $8G...   \n",
       "1   I *adore* Travis at the Hard Rock's new Kelly ...   \n",
       "2   I have to say that this office really has it t...   \n",
       "3   Went in for a lunch. Steak sandwich was delici...   \n",
       "4   Today was my second out of three sessions I ha...   \n",
       "5   I'll be the first to admit that I was not exci...   \n",
       "6   Tracy dessert had a big name in Hong Kong and ...   \n",
       "7   This place has gone down hill.  Clearly they h...   \n",
       "8   I was really looking forward to visiting after...   \n",
       "9   It's a giant Best Buy with 66 registers.  I do...   \n",
       "10  Like walking back in time, every Saturday morn...   \n",
       "11  Walked in around 4 on a Friday afternoon, we s...   \n",
       "12  Wow. So surprised at the one and two star revi...   \n",
       "13  Michael from Red Carpet VIP is amazing ! I rea...   \n",
       "14  I cannot believe how things have changed in 3 ...   \n",
       "15  You can't really find anything wrong with this...   \n",
       "16  Great lunch today. Staff was very helpful in a...   \n",
       "17  I love chinese food and I love mexican food. W...   \n",
       "18  We've been a huge Slim's fan since they opened...   \n",
       "19  Good selection of classes of beers and mains. ...   \n",
       "\n",
       "                                           new_review  new_star  \n",
       "0   total bill horrible service gs crooks actually...        -1  \n",
       "1   adore travis hard rock new kelly cardenas salo...         1  \n",
       "2   say office really together organized friendly ...         1  \n",
       "3   went lunch steak sandwich delicious caesar sal...         1  \n",
       "4   today second three sessions paid although firs...        -1  \n",
       "5   first admit excited going la tavolta food snob...         1  \n",
       "6   tracy dessert big name hong kong one first mar...         0  \n",
       "7   place gone hill clearly cut back staff food qu...        -1  \n",
       "8   really looking forward visiting beers man war ...         0  \n",
       "9         giant best buy registers get big deal place         0  \n",
       "10  like walking back time every saturday morning ...         1  \n",
       "11  walked around friday afternoon sat table bar w...        -1  \n",
       "12  wow surprised one two star reviews started ten...         1  \n",
       "13  michael red carpet vip amazing reached needed ...         1  \n",
       "14  cannot believe things changed years picked duc...        -1  \n",
       "15  really find anything wrong place pastas pizzas...         1  \n",
       "16  great lunch today staff helpful assisting sele...         1  \n",
       "17  love chinese food love mexican food go wrong c...         0  \n",
       "18  huge slim fan since opened one texas two years...         1  \n",
       "19  good selection classes beers mains twice first...         0  "
      ]
     },
     "execution_count": 13,
     "metadata": {},
     "output_type": "execute_result"
    }
   ],
   "source": [
    "reviews.head(20)"
   ]
  },
  {
   "cell_type": "code",
   "execution_count": 14,
   "metadata": {},
   "outputs": [],
   "source": [
    "def transform_to_features(data):\n",
    "    from sklearn.feature_extraction.text import CountVectorizer\n",
    "    vectorizer = CountVectorizer(\n",
    "        analyzer = 'word',\n",
    "        lowercase = False,\n",
    "    )\n",
    "    features = vectorizer.fit_transform(\n",
    "        data\n",
    "    )\n",
    "    features_nd = features.toarray()\n",
    "    return features_nd"
   ]
  },
  {
   "cell_type": "code",
   "execution_count": 15,
   "metadata": {},
   "outputs": [],
   "source": [
    "feature = transform_to_features(reviews[\"new_review\"])"
   ]
  },
  {
   "cell_type": "code",
   "execution_count": 18,
   "metadata": {},
   "outputs": [
    {
     "data": {
      "text/plain": [
       "100000"
      ]
     },
     "execution_count": 18,
     "metadata": {},
     "output_type": "execute_result"
    }
   ],
   "source": [
    "len(feature)"
   ]
  },
  {
   "cell_type": "code",
   "execution_count": 19,
   "metadata": {},
   "outputs": [],
   "source": [
    "from sklearn.model_selection import train_test_split\n",
    "x_train, x_test, y_train, y_test  = train_test_split(\n",
    "        feature, \n",
    "        reviews['new_star'],\n",
    "        train_size=0.80,\n",
    "        test_size=0.20,\n",
    "        random_state=123)"
   ]
  },
  {
   "cell_type": "code",
   "execution_count": 20,
   "metadata": {},
   "outputs": [],
   "source": [
    "from sklearn.linear_model import LogisticRegression\n",
    "log_model = LogisticRegression()\n",
    "\n",
    "log_model = log_model.fit(X=x_train, y=y_train)\n",
    "y_pred = log_model.predict(x_test)"
   ]
  },
  {
   "cell_type": "code",
   "execution_count": 21,
   "metadata": {},
   "outputs": [
    {
     "name": "stdout",
     "output_type": "stream",
     "text": [
      "Accuracy=0.827\n"
     ]
    }
   ],
   "source": [
    "from sklearn.metrics import accuracy_score\n",
    "print(\"Accuracy={}\".format(accuracy_score(y_test,y_pred)))"
   ]
  },
  {
   "cell_type": "code",
   "execution_count": 22,
   "metadata": {},
   "outputs": [],
   "source": [
    "from sklearn.model_selection import cross_val_score\n",
    "score = cross_val_score(log_model, x_train, y_train)"
   ]
  },
  {
   "cell_type": "code",
   "execution_count": 23,
   "metadata": {},
   "outputs": [
    {
     "name": "stdout",
     "output_type": "stream",
     "text": [
      "Cross Validation Scores:  [0.82105895 0.82266472 0.82223889]\n"
     ]
    }
   ],
   "source": [
    "print('Cross Validation Scores: ', score)"
   ]
  },
  {
   "cell_type": "code",
   "execution_count": 24,
   "metadata": {},
   "outputs": [
    {
     "name": "stdout",
     "output_type": "stream",
     "text": [
      "             precision    recall  f1-score   support\n",
      "\n",
      "         -1       0.76      0.72      0.74      2871\n",
      "          0       0.62      0.51      0.56      3797\n",
      "          1       0.89      0.94      0.91     13332\n",
      "\n",
      "avg / total       0.82      0.83      0.82     20000\n",
      "\n"
     ]
    }
   ],
   "source": [
    "y_pred = []\n",
    "y_pred = log_model.predict(x_test)\n",
    "from sklearn.metrics import classification_report\n",
    "print(classification_report(y_test,y_pred))"
   ]
  },
  {
   "cell_type": "code",
   "execution_count": null,
   "metadata": {},
   "outputs": [],
   "source": []
  }
 ],
 "metadata": {
  "celltoolbar": "Raw Cell Format",
  "kernelspec": {
   "display_name": "Python 3",
   "language": "python",
   "name": "python3"
  },
  "language_info": {
   "codemirror_mode": {
    "name": "ipython",
    "version": 3
   },
   "file_extension": ".py",
   "mimetype": "text/x-python",
   "name": "python",
   "nbconvert_exporter": "python",
   "pygments_lexer": "ipython3",
   "version": "3.6.5"
  }
 },
 "nbformat": 4,
 "nbformat_minor": 2
}
